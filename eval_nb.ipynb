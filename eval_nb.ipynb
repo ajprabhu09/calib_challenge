{
 "cells": [
  {
   "cell_type": "code",
   "execution_count": 2,
   "metadata": {},
   "outputs": [],
   "source": [
    "import cv2\n",
    "from PIL import Image"
   ]
  },
  {
   "cell_type": "code",
   "execution_count": null,
   "metadata": {},
   "outputs": [],
   "source": []
  },
  {
   "cell_type": "code",
   "execution_count": 3,
   "metadata": {},
   "outputs": [],
   "source": [
    "import glob\n",
    "def read_files(path):\n",
    "    videos = glob.glob(f\"{path}/*.hevc\")\n",
    "    labels = glob.glob(f\"{path}/*.txt\")\n",
    "    return list(zip(videos, labels))"
   ]
  },
  {
   "cell_type": "code",
   "execution_count": 4,
   "metadata": {},
   "outputs": [],
   "source": [
    "import cv2\n",
    "import utils\n",
    "import numpy as np\n",
    "import matplotlib.pyplot as plt\n",
    "import random\n",
    "import glob\n",
    "import math\n",
    "def read_files(path):\n",
    "    videos = glob.glob(f\"{path}/*.hevc\")\n",
    "    labels = glob.glob(f\"{path}/*.txt\")\n",
    "    return list(zip(videos, labels))\n",
    "\n",
    "def detect_edges(image)-> np.ndarray:\n",
    "\n",
    "    edges = cv2.Canny(image=image, threshold1=100, threshold2=200) \n",
    "    return edges\n",
    "\n",
    "\n",
    "def video_itr(video_file, trace_file):\n",
    "    cap = cv2.VideoCapture(video_file)\n",
    "\n",
    "    ret = True\n",
    "    with open(trace_file,'r+') as tf:\n",
    "        while ret:\n",
    "            ret, img = cap.read()\n",
    "            line = tf.readline()\n",
    "            line = line[0:-1]\n",
    "            if line:\n",
    "                yield (img,np.array([float(x) for x in line.split(\" \")]))\n",
    "    cap.release()"
   ]
  },
  {
   "attachments": {},
   "cell_type": "markdown",
   "metadata": {},
   "source": []
  },
  {
   "cell_type": "code",
   "execution_count": 5,
   "metadata": {},
   "outputs": [
    {
     "ename": "KeyboardInterrupt",
     "evalue": "",
     "output_type": "error",
     "traceback": [
      "\u001b[0;31m---------------------------------------------------------------------------\u001b[0m",
      "\u001b[0;31mKeyboardInterrupt\u001b[0m                         Traceback (most recent call last)",
      "Cell \u001b[0;32mIn[5], line 4\u001b[0m\n\u001b[1;32m      1\u001b[0m \u001b[39mfor\u001b[39;00m image, label \u001b[39min\u001b[39;00m video_itr(\u001b[39m\"\u001b[39m\u001b[39m./labeled/0.hevc\u001b[39m\u001b[39m\"\u001b[39m, \u001b[39m\"\u001b[39m\u001b[39m./labeled/0.txt\u001b[39m\u001b[39m\"\u001b[39m):\n\u001b[1;32m      2\u001b[0m     cv2\u001b[39m.\u001b[39mimshow(\u001b[39m'\u001b[39m\u001b[39masd\u001b[39m\u001b[39m'\u001b[39m, image)\n\u001b[0;32m----> 4\u001b[0m     k \u001b[39m=\u001b[39m cv2\u001b[39m.\u001b[39;49mwaitKey(\u001b[39m30\u001b[39;49m) \u001b[39m&\u001b[39m \u001b[39m0xff\u001b[39m\n\u001b[1;32m      5\u001b[0m     \u001b[39mif\u001b[39;00m k \u001b[39m==\u001b[39m \u001b[39m27\u001b[39m:\n\u001b[1;32m      6\u001b[0m         \u001b[39mbreak\u001b[39;00m\n",
      "\u001b[0;31mKeyboardInterrupt\u001b[0m: "
     ]
    },
    {
     "ename": "",
     "evalue": "",
     "output_type": "error",
     "traceback": [
      "\u001b[1;31mThe Kernel crashed while executing code in the the current cell or a previous cell. Please review the code in the cell(s) to identify a possible cause of the failure. Click <a href='https://aka.ms/vscodeJupyterKernelCrash'>here</a> for more info. View Jupyter <a href='command:jupyter.viewOutput'>log</a> for further details."
     ]
    }
   ],
   "source": [
    "for image, label in video_itr(\"./labeled/0.hevc\", \"./labeled/0.txt\"):\n",
    "    cv2.imshow('asd', image)\n",
    "    \n",
    "    k = cv2.waitKey(30) & 0xff\n",
    "    if k == 27:\n",
    "        break"
   ]
  },
  {
   "cell_type": "code",
   "execution_count": null,
   "metadata": {},
   "outputs": [],
   "source": []
  }
 ],
 "metadata": {
  "kernelspec": {
   "display_name": "calib_challenge-t3QqC3wi",
   "language": "python",
   "name": "python3"
  },
  "language_info": {
   "codemirror_mode": {
    "name": "ipython",
    "version": 3
   },
   "file_extension": ".py",
   "mimetype": "text/x-python",
   "name": "python",
   "nbconvert_exporter": "python",
   "pygments_lexer": "ipython3",
   "version": "3.10.6"
  },
  "orig_nbformat": 4,
  "vscode": {
   "interpreter": {
    "hash": "221e18544c271441c582858e2589b96a643c987b7d0fffa5a57230fe5c710512"
   }
  }
 },
 "nbformat": 4,
 "nbformat_minor": 2
}
